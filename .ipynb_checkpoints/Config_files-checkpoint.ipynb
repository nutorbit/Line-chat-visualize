{
 "cells": [
  {
   "cell_type": "code",
   "execution_count": null,
   "metadata": {},
   "outputs": [],
   "source": [
    "import re\n",
    "import pandas as pd\n",
    "import seaborn as sns; sns.set()\n",
    "import matplotlib.pyplot as plt\n",
    "from datetime import datetime\n",
    "%matplotlib inline\n",
    "import time\n",
    "\n",
    "import line_function"
   ]
  },
  {
   "cell_type": "code",
   "execution_count": null,
   "metadata": {},
   "outputs": [],
   "source": [
    "# -----------------------------------------------------\n",
    "filesname = \"[LINE] การแชทกับ indy\"\n",
    "# filesname = \"test_thai\"\n",
    "# -----------------------------------------------------\n",
    "files = open(filesname+\".txt\", \"r\", encoding=\"utf8\")\n",
    "chat = [i.strip() for i in files]\n",
    "chat = chat[3:]"
   ]
  },
  {
   "cell_type": "code",
   "execution_count": null,
   "metadata": {},
   "outputs": [],
   "source": [
    "# chat"
   ]
  },
  {
   "cell_type": "markdown",
   "metadata": {},
   "source": [
    "### Reformat chat."
   ]
  },
  {
   "cell_type": "code",
   "execution_count": null,
   "metadata": {},
   "outputs": [],
   "source": [
    "def ad_to_be(new_format):\n",
    "    \"\"\"\n",
    "    Convert year A.D. to B.E.\n",
    "    \"\"\"\n",
    "    for i in range(len(new_format)):\n",
    "        new_format[i][1] = new_format[i][1].replace(new_format[i][1], new_format[i][1][:6]+str(int(new_format[i][1][6:])-543))\n",
    "    return new_format"
   ]
  },
  {
   "cell_type": "code",
   "execution_count": null,
   "metadata": {},
   "outputs": [],
   "source": [
    "keep = ''\n",
    "chat_reformated = []\n",
    "for i in range(len(chat)):\n",
    "    if re.search(\"^[M, T, W, T, F, S]\", chat[i]):\n",
    "        keep = chat[i]\n",
    "    elif re.search(\"^[จ, อ, พ, พฤ, ศ, ส]\", chat[i]):\n",
    "        keep = chat[i]\n",
    "    elif chat[i] == '':\n",
    "        pass\n",
    "    else:\n",
    "        chat_reformated.append(keep + '\\t' + chat[i])\n",
    "        \n",
    "# - - - - - Check day language - - - - -\n",
    "\n",
    "if re.search('[a-z, A-Z]', chat[0][0]): # Eng\n",
    "    for i in range(len(chat_reformated)):\n",
    "        chat_reformated[i] = chat_reformated[i].replace(', ', '\\t', 1)\n",
    "else: # Thai\n",
    "    for i in range(len(chat_reformated)):\n",
    "        chat_reformated[i] = chat_reformated[i].replace(' ', '\\t', 1)\n",
    "    \n",
    "new_format = [i.split('\\t') for i in chat_reformated]"
   ]
  },
  {
   "cell_type": "code",
   "execution_count": null,
   "metadata": {},
   "outputs": [],
   "source": [
    "for l in range(len(new_format)):\n",
    "    check = new_format[l][1].split('/')\n",
    "    if len(check[0]) != 2:\n",
    "        check[0] = '0' + check[0]\n",
    "    if len(check[1]) != 2:\n",
    "        check[1] = '0' + check[1]\n",
    "    new_format[l][1] = check[0] + '/' + check[1] + '/' + check[2]"
   ]
  },
  {
   "cell_type": "code",
   "execution_count": null,
   "metadata": {},
   "outputs": [],
   "source": [
    "new_format"
   ]
  },
  {
   "cell_type": "code",
   "execution_count": null,
   "metadata": {},
   "outputs": [],
   "source": [
    "if int(new_format[0][1][7]) > 0:\n",
    "    new_format = ad_to_be(new_format)"
   ]
  },
  {
   "cell_type": "code",
   "execution_count": null,
   "metadata": {},
   "outputs": [],
   "source": [
    "date = [new_format[i][0] for i in range(len(new_format)) if len(new_format[i]) == 5]\n",
    "day = [new_format[i][1] for i in range(len(new_format)) if len(new_format[i]) == 5]\n",
    "time = [new_format[i][2] for i in range(len(new_format)) if len(new_format[i]) == 5]\n",
    "user = [new_format[i][3] for i in range(len(new_format)) if len(new_format[i]) == 5]\n",
    "messages =[new_format[i][4] for i in range(len(new_format)) if len(new_format[i]) == 5]"
   ]
  },
  {
   "cell_type": "code",
   "execution_count": null,
   "metadata": {},
   "outputs": [],
   "source": [
    "df = pd.DataFrame({'date':date, 'time':time, 'day':day, 'user':user, 'messages':messages})"
   ]
  },
  {
   "cell_type": "code",
   "execution_count": null,
   "metadata": {},
   "outputs": [],
   "source": [
    "for k in range(len(df)):\n",
    "    df['date'].iloc[k] = df['date_time'].iloc[k].strftime('%a')"
   ]
  },
  {
   "cell_type": "code",
   "execution_count": null,
   "metadata": {},
   "outputs": [],
   "source": []
  },
  {
   "cell_type": "code",
   "execution_count": null,
   "metadata": {},
   "outputs": [],
   "source": [
    "date_time = [datetime.strptime(df['day'][i] + ' ' + df['time'][i], '%d/%m/%Y %H:%M') for i in range(len(df))]\n",
    "df['date_time'] = date_time"
   ]
  },
  {
   "cell_type": "code",
   "execution_count": null,
   "metadata": {},
   "outputs": [],
   "source": [
    "df.head()"
   ]
  },
  {
   "cell_type": "code",
   "execution_count": null,
   "metadata": {},
   "outputs": [],
   "source": [
    "df.drop('time', axis=1, inplace = True)"
   ]
  },
  {
   "cell_type": "code",
   "execution_count": null,
   "metadata": {},
   "outputs": [],
   "source": [
    "df.head()"
   ]
  },
  {
   "cell_type": "markdown",
   "metadata": {},
   "source": [
    "### Time binning"
   ]
  },
  {
   "cell_type": "code",
   "execution_count": null,
   "metadata": {},
   "outputs": [],
   "source": [
    "bins = list(range(0, 25*60, 60*3))\n",
    "labels = ['0-3', '3-6', '6-9', '9-12','12-15', '15-18', '18-21', '21-24']\n",
    "bins"
   ]
  },
  {
   "cell_type": "code",
   "execution_count": null,
   "metadata": {},
   "outputs": [],
   "source": [
    "# add column minutes to data frame\n",
    "df['minutes'] = df.date_time.dt.hour * 60 + df.date_time.dt.minute"
   ]
  },
  {
   "cell_type": "code",
   "execution_count": null,
   "metadata": {},
   "outputs": [],
   "source": [
    "# add column groupto data frame\n",
    "df['group'] = pd.cut(df['minutes'], bins=bins, labels=labels)"
   ]
  },
  {
   "cell_type": "code",
   "execution_count": null,
   "metadata": {},
   "outputs": [],
   "source": [
    "df.drop('minutes', axis=1, inplace = True)"
   ]
  },
  {
   "cell_type": "code",
   "execution_count": null,
   "metadata": {},
   "outputs": [],
   "source": [
    "df.head()"
   ]
  },
  {
   "cell_type": "code",
   "execution_count": null,
   "metadata": {},
   "outputs": [],
   "source": [
    "df.tail()"
   ]
  },
  {
   "cell_type": "code",
   "execution_count": null,
   "metadata": {},
   "outputs": [],
   "source": [
    "df['group'].value_counts().reindex(['0-3', '3-6', '6-9', '9-12','12-15', '15-18', '18-21', '21-24']).plot.bar()"
   ]
  },
  {
   "cell_type": "code",
   "execution_count": null,
   "metadata": {},
   "outputs": [],
   "source": [
    "df['user'].value_counts().plot.bar()"
   ]
  },
  {
   "cell_type": "code",
   "execution_count": null,
   "metadata": {},
   "outputs": [],
   "source": [
    "df['date'].value_counts().reindex(['Mon', 'Tue', 'Wed', 'Thu', 'Fri', 'Sat', 'Sun']).plot.bar()"
   ]
  },
  {
   "cell_type": "markdown",
   "metadata": {},
   "source": [
    "### Find all month."
   ]
  },
  {
   "cell_type": "code",
   "execution_count": null,
   "metadata": {},
   "outputs": [],
   "source": [
    "day = [i.split('/') for i in df['day']]"
   ]
  },
  {
   "cell_type": "code",
   "execution_count": null,
   "metadata": {},
   "outputs": [],
   "source": [
    "lst_month = []\n",
    "for i in range(len(day)):\n",
    "    lst_month.append(day[i][1])\n",
    "lst_month = list(set(lst_month))\n",
    "lst_month.sort()"
   ]
  },
  {
   "cell_type": "code",
   "execution_count": null,
   "metadata": {},
   "outputs": [],
   "source": [
    "lst_month"
   ]
  },
  {
   "cell_type": "code",
   "execution_count": null,
   "metadata": {},
   "outputs": [],
   "source": [
    "all_time_trend_plot = pd.DataFrame(df.groupby(['date', 'user']).size(), columns=['count']).unstack()"
   ]
  },
  {
   "cell_type": "code",
   "execution_count": null,
   "metadata": {},
   "outputs": [],
   "source": [
    "all_time_trend_plot.columns = all_time_trend_plot.columns.droplevel()"
   ]
  },
  {
   "cell_type": "code",
   "execution_count": null,
   "metadata": {},
   "outputs": [],
   "source": [
    "all_time_trend_plot = all_time_trend_plot.reindex(['Mon', 'Tue', 'Wed', 'Thu', 'Fri', 'Sat', 'Sun'])"
   ]
  },
  {
   "cell_type": "code",
   "execution_count": null,
   "metadata": {},
   "outputs": [],
   "source": [
    "all_time_trend_plot.plot(kind = 'bar')\n",
    "plt.xticks(rotation='vertical')"
   ]
  },
  {
   "cell_type": "code",
   "execution_count": null,
   "metadata": {},
   "outputs": [],
   "source": [
    "all_time_trend_plot = pd.DataFrame(df.groupby(['day', 'user']).size(), columns=['count']).unstack()"
   ]
  },
  {
   "cell_type": "code",
   "execution_count": null,
   "metadata": {},
   "outputs": [],
   "source": [
    "all_time_trend_plot.columns = all_time_trend_plot.columns.droplevel()"
   ]
  },
  {
   "cell_type": "markdown",
   "metadata": {},
   "source": [
    "### Filter function"
   ]
  },
  {
   "cell_type": "code",
   "execution_count": null,
   "metadata": {},
   "outputs": [],
   "source": [
    "month_year = '10/2018'"
   ]
  },
  {
   "cell_type": "code",
   "execution_count": null,
   "metadata": {
    "scrolled": true
   },
   "outputs": [],
   "source": [
    "lst_filter = []\n",
    "for i in range(len(all_time_trend_plot)):\n",
    "    if re.search(month_year, all_time_trend_plot.index[i]):\n",
    "        lst_filter.append(True)\n",
    "    else:\n",
    "        lst_filter.append(False)"
   ]
  },
  {
   "cell_type": "code",
   "execution_count": null,
   "metadata": {
    "scrolled": true
   },
   "outputs": [],
   "source": [
    "all_time_trend_plot[lst_filter]"
   ]
  },
  {
   "cell_type": "code",
   "execution_count": null,
   "metadata": {},
   "outputs": [],
   "source": [
    "plt.figure()\n",
    "all_time_trend_plot[lst_filter].plot.bar(figsize=(20,5))\n",
    "all_time_trend_plot[lst_filter].plot(figsize=(20,5))\n",
    "plt.xticks(rotation='vertical')"
   ]
  },
  {
   "cell_type": "code",
   "execution_count": null,
   "metadata": {},
   "outputs": [],
   "source": [
    "df.head()"
   ]
  },
  {
   "cell_type": "code",
   "execution_count": null,
   "metadata": {},
   "outputs": [],
   "source": []
  },
  {
   "cell_type": "code",
   "execution_count": null,
   "metadata": {},
   "outputs": [],
   "source": [
    "gg = df.groupby(['date', 'group'])\n",
    "gg = gg.size().unstack()\n",
    "gg = gg.reindex(['Mon', 'Tue', 'Wed', 'Thu', 'Fri', 'Sat', 'Sun'])\n",
    "gg.fillna(0)"
   ]
  },
  {
   "cell_type": "code",
   "execution_count": null,
   "metadata": {},
   "outputs": [],
   "source": [
    "plt.figure(figsize=(8,6))\n",
    "ax = sns.heatmap(gg, cmap=\"YlGnBu\", annot=True, fmt='.0f')"
   ]
  },
  {
   "cell_type": "code",
   "execution_count": null,
   "metadata": {},
   "outputs": [],
   "source": []
  }
 ],
 "metadata": {
  "file_extension": ".py",
  "kernelspec": {
   "display_name": "Python 3",
   "language": "python",
   "name": "python3"
  },
  "language_info": {
   "codemirror_mode": {
    "name": "ipython",
    "version": 3
   },
   "file_extension": ".py",
   "mimetype": "text/x-python",
   "name": "python",
   "nbconvert_exporter": "python",
   "pygments_lexer": "ipython3",
   "version": "3.7.3"
  },
  "mimetype": "text/x-python",
  "name": "python",
  "npconvert_exporter": "python",
  "pygments_lexer": "ipython3",
  "version": 3
 },
 "nbformat": 4,
 "nbformat_minor": 2
}
