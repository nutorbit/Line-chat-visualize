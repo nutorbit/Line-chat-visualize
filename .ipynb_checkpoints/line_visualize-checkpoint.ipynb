{
 "cells": [
  {
   "cell_type": "code",
   "execution_count": null,
   "metadata": {},
   "outputs": [],
   "source": [
    "import re\n",
    "import pandas as pd\n",
    "# import numpy as np\n",
    "import matplotlib.pyplot as plt\n",
    "%matplotlib inline\n",
    "\n",
    "import time"
   ]
  },
  {
   "cell_type": "markdown",
   "metadata": {},
   "source": [
    "## Read file"
   ]
  },
  {
   "cell_type": "code",
   "execution_count": null,
   "metadata": {},
   "outputs": [],
   "source": [
    "# -----------------------------------------------------\n",
    "filesname = \"[LINE] Chat with Empty chat\"\n",
    "# -----------------------------------------------------\n",
    "files = open(filesname+\".txt\", \"r\", encoding=\"utf8\")\n",
    "\n",
    "start = time.time()\n",
    "\n",
    "chat = [i.strip() for i in files]\n",
    "chat\n",
    "\n",
    "end = time.time()\n",
    "print(end - start)"
   ]
  },
  {
   "cell_type": "code",
   "execution_count": null,
   "metadata": {},
   "outputs": [],
   "source": [
    "# # -----------------------------------------------------\n",
    "# filesname = \"[LINE] Chat with Empty chat\"\n",
    "# # -----------------------------------------------------\n",
    "\n",
    "# files = open(filesname+\".txt\", \"r\", encoding=\"utf8\")\n",
    "\n",
    "# start = time.time()\n",
    "# chat = []\n",
    "# for i in files:\n",
    "#     chat.append(i.strip())\n",
    "# end = time.time()\n",
    "# print(end - start)\n",
    "\n",
    "# chat"
   ]
  },
  {
   "cell_type": "code",
   "execution_count": null,
   "metadata": {},
   "outputs": [],
   "source": [
    "# lines = csv.reader(open(\"test.txt\", \"r\", encoding=\"utf8\"))\n",
    "# chats = list(lines)"
   ]
  },
  {
   "cell_type": "code",
   "execution_count": null,
   "metadata": {},
   "outputs": [],
   "source": [
    "len(chat)"
   ]
  },
  {
   "cell_type": "markdown",
   "metadata": {},
   "source": [
    "### reforamt chat"
   ]
  },
  {
   "cell_type": "code",
   "execution_count": null,
   "metadata": {},
   "outputs": [],
   "source": []
  },
  {
   "cell_type": "code",
   "execution_count": null,
   "metadata": {
    "scrolled": true
   },
   "outputs": [],
   "source": [
    "start = time.time()\n",
    "\n",
    "new_chat = []\n",
    "for i in chat[2:]:\n",
    "    if i != '':\n",
    "        if ord(i[0]) in [77, 84, 87, 70, 83]: # check first character of day (M, T, W, F, S)\n",
    "        #if i[0:4] in ['Mon', 'Tue', 'Wed', 'Thu', 'Fri', 'Sat', 'Sun']:\n",
    "            keep = i.split(', ') # split day and date to list\n",
    "            #print(keep)\n",
    "            keep = keep[0]+'\\t'+keep[1] # reformat\n",
    "            print(keep)\n",
    "        if ord(i[0]) in [48, 49, 50, 51, 52, 53, 54, 55, 56, 57]: # check first character is number (0,1,2,3,4,5,6,7,8,9)\n",
    "            new_chat.append(keep+'\\t'+i) # reformat (day-date-time-person-message)\n",
    "    else:\n",
    "        print('---------------------')\n",
    "\n",
    "end = time.time()\n",
    "print(end - start)"
   ]
  },
  {
   "cell_type": "code",
   "execution_count": null,
   "metadata": {},
   "outputs": [],
   "source": [
    "new_chat"
   ]
  },
  {
   "cell_type": "markdown",
   "metadata": {},
   "source": [
    "### List in lilst"
   ]
  },
  {
   "cell_type": "code",
   "execution_count": null,
   "metadata": {},
   "outputs": [],
   "source": [
    "ls = [i.split('\\t') for i in new_chat]\n",
    "ls"
   ]
  },
  {
   "cell_type": "code",
   "execution_count": null,
   "metadata": {},
   "outputs": [],
   "source": [
    "# ls = []\n",
    "# for i in new_chat:\n",
    "#     ls.append(i.split('\\t'))"
   ]
  },
  {
   "cell_type": "code",
   "execution_count": null,
   "metadata": {},
   "outputs": [],
   "source": [
    "# check = set([])\n",
    "# for i in range(len(ls)):\n",
    "#     if (len(ls[i])) != 5:\n",
    "# #         ls[i] = [None, None, None, None, None]\n",
    "#         print(ls[i])\n",
    "#         del(ls[i])\n",
    "#     check.add((len(ls[i])))\n",
    "# check"
   ]
  },
  {
   "cell_type": "code",
   "execution_count": null,
   "metadata": {},
   "outputs": [],
   "source": [
    "useable = [ls[i] for i in range(len(ls)) if (len(ls[i])) == 5]\n",
    "useable"
   ]
  },
  {
   "cell_type": "code",
   "execution_count": null,
   "metadata": {},
   "outputs": [],
   "source": [
    "# useable = []\n",
    "# for i in range(len(ls)):\n",
    "#     if (len(ls[i])) == 5:\n",
    "#         useable.append(ls[i])\n",
    "# useable"
   ]
  },
  {
   "cell_type": "code",
   "execution_count": null,
   "metadata": {},
   "outputs": [],
   "source": [
    "check = set([])\n",
    "for i in range(len(useable)):\n",
    "    check.add(len(useable[i]))\n",
    "print(check)"
   ]
  },
  {
   "cell_type": "code",
   "execution_count": null,
   "metadata": {},
   "outputs": [],
   "source": [
    "day = [useable[i][0] for i in range(len(useable))] # create list of day and append value in day\n",
    "date = [useable[i][1] for i in range(len(useable))] # create list of date and append value in date\n",
    "time = [useable[i][2] for i in range(len(useable))] # create list of time and append value in time\n",
    "user = [useable[i][3] for i in range(len(useable))] # create list of user and append value in user\n",
    "message = [useable[i][4] for i in range(len(useable))] # create list of message and append value in message"
   ]
  },
  {
   "cell_type": "code",
   "execution_count": null,
   "metadata": {},
   "outputs": [],
   "source": [
    "# day"
   ]
  },
  {
   "cell_type": "code",
   "execution_count": null,
   "metadata": {},
   "outputs": [],
   "source": [
    "# date"
   ]
  },
  {
   "cell_type": "code",
   "execution_count": null,
   "metadata": {},
   "outputs": [],
   "source": [
    "# time"
   ]
  },
  {
   "cell_type": "code",
   "execution_count": null,
   "metadata": {},
   "outputs": [],
   "source": [
    "# user"
   ]
  },
  {
   "cell_type": "code",
   "execution_count": null,
   "metadata": {},
   "outputs": [],
   "source": [
    "# message"
   ]
  },
  {
   "cell_type": "code",
   "execution_count": null,
   "metadata": {},
   "outputs": [],
   "source": [
    "df = pd.DataFrame({'day':day, 'date':date})"
   ]
  },
  {
   "cell_type": "code",
   "execution_count": null,
   "metadata": {},
   "outputs": [],
   "source": [
    "df.head(10)"
   ]
  },
  {
   "cell_type": "code",
   "execution_count": null,
   "metadata": {
    "scrolled": true
   },
   "outputs": [],
   "source": [
    "df['month_year'] = [i[3:] for i in df['date']] #add column month year in df"
   ]
  },
  {
   "cell_type": "code",
   "execution_count": null,
   "metadata": {},
   "outputs": [],
   "source": [
    "df.head(10)"
   ]
  },
  {
   "cell_type": "code",
   "execution_count": null,
   "metadata": {},
   "outputs": [],
   "source": [
    "keeper = set([])\n",
    "\n",
    "for i in df['date']:\n",
    "    if re.search(\"/[0-1][1-9]/\", i):\n",
    "        keeper.add(i[3:])\n",
    "        \n",
    "keeper = list(keeper)\n",
    "keeper.sort()\n",
    "print(keeper)"
   ]
  },
  {
   "cell_type": "code",
   "execution_count": null,
   "metadata": {},
   "outputs": [],
   "source": [
    "count = df['day'].value_counts()\n",
    "count"
   ]
  },
  {
   "cell_type": "code",
   "execution_count": null,
   "metadata": {},
   "outputs": [],
   "source": [
    "count = count.reindex(['Mon', 'Tue', 'Wed', 'Thu', 'Fri', 'Sat', 'Sun'])"
   ]
  },
  {
   "cell_type": "markdown",
   "metadata": {},
   "source": [
    "### Plot message per day [All Time]"
   ]
  },
  {
   "cell_type": "code",
   "execution_count": null,
   "metadata": {},
   "outputs": [],
   "source": [
    "p = count.plot.bar()\n",
    "p.set_xlabel(\"day\")\n",
    "p.set_ylabel(\"number of message\")\n",
    "p.set_title(\"message per days (All time.)\")"
   ]
  },
  {
   "cell_type": "markdown",
   "metadata": {},
   "source": [
    "### Plot message per day by month"
   ]
  },
  {
   "cell_type": "code",
   "execution_count": null,
   "metadata": {},
   "outputs": [],
   "source": [
    "m_y = '08/2561' # m_y is month year\n",
    "df_smy = df[df['month_year'] == m_y] # smy is specific month year"
   ]
  },
  {
   "cell_type": "code",
   "execution_count": null,
   "metadata": {},
   "outputs": [],
   "source": [
    "count = df_smy['day'].value_counts()\n",
    "count = count.reindex(['Mon', 'Tue', 'Wed', 'Thu', 'Fri', 'Sat', 'Sun'])"
   ]
  },
  {
   "cell_type": "code",
   "execution_count": null,
   "metadata": {},
   "outputs": [],
   "source": [
    "p = count.plot.bar()\n",
    "p.set_xlabel(\"day\")\n",
    "p.set_ylabel(\"number of message\")\n",
    "p.set_title(f\"message per days ( {m_y} )\")\n",
    "plt.show()"
   ]
  },
  {
   "cell_type": "code",
   "execution_count": null,
   "metadata": {},
   "outputs": [],
   "source": [
    "# count.plot(kind='bar', x=\"day\", y=\"number of message\")"
   ]
  },
  {
   "cell_type": "code",
   "execution_count": null,
   "metadata": {},
   "outputs": [],
   "source": [
    "print(f\"All message in this month is '{count.sum()}' message!\")"
   ]
  },
  {
   "cell_type": "code",
   "execution_count": null,
   "metadata": {},
   "outputs": [],
   "source": [
    "count"
   ]
  },
  {
   "cell_type": "code",
   "execution_count": null,
   "metadata": {},
   "outputs": [],
   "source": []
  }
 ],
 "metadata": {
  "kernelspec": {
   "display_name": "Python 3",
   "language": "python",
   "name": "python3"
  },
  "language_info": {
   "codemirror_mode": {
    "name": "ipython",
    "version": 3
   },
   "file_extension": ".py",
   "mimetype": "text/x-python",
   "name": "python",
   "nbconvert_exporter": "python",
   "pygments_lexer": "ipython3",
   "version": "3.7.3"
  }
 },
 "nbformat": 4,
 "nbformat_minor": 2
}
